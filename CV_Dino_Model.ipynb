{
  "nbformat": 4,
  "nbformat_minor": 0,
  "metadata": {
    "colab": {
      "provenance": [],
      "gpuType": "T4",
      "authorship_tag": "ABX9TyP9mNhLFDRnRJo5UvE0Yq+d",
      "include_colab_link": true
    },
    "kernelspec": {
      "name": "python3",
      "display_name": "Python 3"
    },
    "language_info": {
      "name": "python"
    },
    "accelerator": "GPU"
  },
  "cells": [
    {
      "cell_type": "markdown",
      "metadata": {
        "id": "view-in-github",
        "colab_type": "text"
      },
      "source": [
        "<a href=\"https://colab.research.google.com/github/BytesizeWonders/DINO_Model/blob/main/CV_Dino_Model.ipynb\" target=\"_parent\"><img src=\"https://colab.research.google.com/assets/colab-badge.svg\" alt=\"Open In Colab\"/></a>"
      ]
    },
    {
      "cell_type": "code",
      "source": [
        "import os\n",
        "import shutil\n",
        "from sklearn.model_selection import train_test_split\n",
        "from google.colab import drive\n",
        "\n",
        "# Step 1: Mount Google Drive\n",
        "if not os.path.ismount('/content/drive'):\n",
        "    drive.mount('/content/drive')\n",
        "else:\n",
        "    print(\"Google Drive is already mounted.\")\n",
        "\n",
        "# Step 2: Define the path to the dataset directory on Google Drive\n",
        "dataset_dir = '/content/drive/MyDrive/Pedestrian_dataset_for_internship_assignment'\n",
        "\n",
        "# Step 3: Walk through the dataset directory and gather all image files (handles subdirectories and image file extensions)\n",
        "images = []\n",
        "for root, dirs, files in os.walk(dataset_dir):\n",
        "    for file in files:\n",
        "        if file.lower().endswith(('.png', '.jpg', '.jpeg')):  # Handles JPG, JPEG, PNG files\n",
        "            images.append(os.path.join(root, file))  # Full path to each image\n",
        "\n",
        "# Step 4: Check if any images were found\n",
        "print(f\"Number of images found: {len(images)}\")\n",
        "print(f\"Sample images: {images[:5]}\")  # Display the first 5 images for verification\n",
        "\n",
        "# If no images were found, raise an error to avoid further issues\n",
        "if len(images) == 0:\n",
        "    raise ValueError(\"No valid image files found in the dataset directory!\")\n",
        "\n",
        "# Step 5: Split images into training (80%) and validation (20%) sets\n",
        "train_images, val_images = train_test_split(images, test_size=0.2, random_state=42)\n",
        "\n",
        "# Step 6: Create directories for training and validation sets on Google Drive\n",
        "train_dir = os.path.join(dataset_dir, 'train/images')\n",
        "val_dir = os.path.join(dataset_dir, 'val/images')\n",
        "\n",
        "os.makedirs(train_dir, exist_ok=True)\n",
        "os.makedirs(val_dir, exist_ok=True)\n",
        "\n",
        "# Step 7: Move training images to the 'train/images' directory\n",
        "for img in train_images:\n",
        "    shutil.move(img, os.path.join(train_dir, os.path.basename(img)))  # Move the image file\n",
        "\n",
        "# Step 8: Move validation images to the 'val/images' directory\n",
        "for img in val_images:\n",
        "    shutil.move(img, os.path.join(val_dir, os.path.basename(img)))  # Move the image file\n",
        "\n",
        "print(\"Images have been successfully split and moved to training/validation directories.\")\n"
      ],
      "metadata": {
        "colab": {
          "base_uri": "https://localhost:8080/"
        },
        "id": "4IWXQAmqpHY_",
        "outputId": "1283b233-ad6e-4d01-9ec8-ff36824603de"
      },
      "execution_count": 3,
      "outputs": [
        {
          "output_type": "stream",
          "name": "stdout",
          "text": [
            "Google Drive is already mounted.\n",
            "Number of images found: 201\n",
            "Sample images: ['/content/drive/MyDrive/Pedestrian_dataset_for_internship_assignment/train/images/11613.jpg', '/content/drive/MyDrive/Pedestrian_dataset_for_internship_assignment/train/images/11273.jpg', '/content/drive/MyDrive/Pedestrian_dataset_for_internship_assignment/train/images/15703.jpg', '/content/drive/MyDrive/Pedestrian_dataset_for_internship_assignment/train/images/10957.jpg', '/content/drive/MyDrive/Pedestrian_dataset_for_internship_assignment/train/images/11563.jpg']\n",
            "Images have been successfully split and moved to training/validation directories.\n"
          ]
        }
      ]
    },
    {
      "cell_type": "code",
      "source": [
        "!git clone https://github.com/IDEA-Research/DINO.git\n",
        "!cd DINO"
      ],
      "metadata": {
        "colab": {
          "base_uri": "https://localhost:8080/"
        },
        "id": "FdRXF4BE1OfH",
        "outputId": "bba7b023-6906-45d5-9471-bed1f2346e11"
      },
      "execution_count": 4,
      "outputs": [
        {
          "output_type": "stream",
          "name": "stdout",
          "text": [
            "Cloning into 'DINO'...\n",
            "remote: Enumerating objects: 442, done.\u001b[K\n",
            "remote: Counting objects: 100% (191/191), done.\u001b[K\n",
            "remote: Compressing objects: 100% (95/95), done.\u001b[K\n",
            "remote: Total 442 (delta 136), reused 96 (delta 96), pack-reused 251 (from 1)\u001b[K\n",
            "Receiving objects: 100% (442/442), 13.43 MiB | 17.59 MiB/s, done.\n",
            "Resolving deltas: 100% (191/191), done.\n"
          ]
        }
      ]
    },
    {
      "cell_type": "code",
      "source": [
        "# Clone the DINO repository\n",
        "!git clone https://github.com/IDEA-Research/DINO.git\n",
        "\n",
        "# Change directory to DINO\n",
        "%cd DINO\n",
        "\n",
        "# Install required dependencies from the requirements.txt file\n",
        "!pip install -r requirements.txt\n",
        "\n",
        "# Verify the Python version (optional, should be 3.8 or higher)\n",
        "!python --version"
      ],
      "metadata": {
        "colab": {
          "base_uri": "https://localhost:8080/"
        },
        "id": "SBeHbCZk11Na",
        "outputId": "17f75752-fbe3-41fa-e8d2-72abb5090f40"
      },
      "execution_count": 5,
      "outputs": [
        {
          "output_type": "stream",
          "name": "stdout",
          "text": [
            "fatal: destination path 'DINO' already exists and is not an empty directory.\n",
            "/content/DINO\n",
            "Collecting pycocotools (from -r requirements.txt (line 2))\n",
            "  Cloning https://github.com/cocodataset/cocoapi.git to /tmp/pip-install-q7c_jqrd/pycocotools_f927b818f31e45af94b4f179304947af\n",
            "  Running command git clone --filter=blob:none --quiet https://github.com/cocodataset/cocoapi.git /tmp/pip-install-q7c_jqrd/pycocotools_f927b818f31e45af94b4f179304947af\n",
            "  Resolved https://github.com/cocodataset/cocoapi.git to commit 8c9bcc3cf640524c4c20a9c40e89cb6a2f2fa0e9\n",
            "  Preparing metadata (setup.py) ... \u001b[?25l\u001b[?25hdone\n",
            "Collecting panopticapi (from -r requirements.txt (line 6))\n",
            "  Cloning https://github.com/cocodataset/panopticapi.git to /tmp/pip-install-q7c_jqrd/panopticapi_14c400d6ed504c19ac80d03efd76ba7e\n",
            "  Running command git clone --filter=blob:none --quiet https://github.com/cocodataset/panopticapi.git /tmp/pip-install-q7c_jqrd/panopticapi_14c400d6ed504c19ac80d03efd76ba7e\n",
            "  Resolved https://github.com/cocodataset/panopticapi.git to commit 7bb4655548f98f3fedc07bf37e9040a992b054b0\n",
            "  Preparing metadata (setup.py) ... \u001b[?25l\u001b[?25hdone\n",
            "Requirement already satisfied: cython in /usr/local/lib/python3.10/dist-packages (from -r requirements.txt (line 1)) (3.0.11)\n",
            "Collecting submitit (from -r requirements.txt (line 3))\n",
            "  Downloading submitit-1.5.2-py3-none-any.whl.metadata (7.9 kB)\n",
            "Requirement already satisfied: torch>=1.5.0 in /usr/local/lib/python3.10/dist-packages (from -r requirements.txt (line 4)) (2.4.1+cu121)\n",
            "Requirement already satisfied: torchvision>=0.6.0 in /usr/local/lib/python3.10/dist-packages (from -r requirements.txt (line 5)) (0.19.1+cu121)\n",
            "Requirement already satisfied: scipy in /usr/local/lib/python3.10/dist-packages (from -r requirements.txt (line 7)) (1.13.1)\n",
            "Requirement already satisfied: termcolor in /usr/local/lib/python3.10/dist-packages (from -r requirements.txt (line 8)) (2.4.0)\n",
            "Collecting addict (from -r requirements.txt (line 9))\n",
            "  Downloading addict-2.4.0-py3-none-any.whl.metadata (1.0 kB)\n",
            "Collecting yapf (from -r requirements.txt (line 10))\n",
            "  Downloading yapf-0.40.2-py3-none-any.whl.metadata (45 kB)\n",
            "\u001b[2K     \u001b[90m━━━━━━━━━━━━━━━━━━━━━━━━━━━━━━━━━━━━━━━━\u001b[0m \u001b[32m45.4/45.4 kB\u001b[0m \u001b[31m2.5 MB/s\u001b[0m eta \u001b[36m0:00:00\u001b[0m\n",
            "\u001b[?25hCollecting timm (from -r requirements.txt (line 11))\n",
            "  Downloading timm-1.0.9-py3-none-any.whl.metadata (42 kB)\n",
            "\u001b[2K     \u001b[90m━━━━━━━━━━━━━━━━━━━━━━━━━━━━━━━━━━━━━━━━\u001b[0m \u001b[32m42.4/42.4 kB\u001b[0m \u001b[31m2.4 MB/s\u001b[0m eta \u001b[36m0:00:00\u001b[0m\n",
            "\u001b[?25hRequirement already satisfied: setuptools>=18.0 in /usr/local/lib/python3.10/dist-packages (from pycocotools->-r requirements.txt (line 2)) (71.0.4)\n",
            "Requirement already satisfied: matplotlib>=2.1.0 in /usr/local/lib/python3.10/dist-packages (from pycocotools->-r requirements.txt (line 2)) (3.7.1)\n",
            "Requirement already satisfied: cloudpickle>=1.2.1 in /usr/local/lib/python3.10/dist-packages (from submitit->-r requirements.txt (line 3)) (2.2.1)\n",
            "Requirement already satisfied: typing_extensions>=3.7.4.2 in /usr/local/lib/python3.10/dist-packages (from submitit->-r requirements.txt (line 3)) (4.12.2)\n",
            "Requirement already satisfied: filelock in /usr/local/lib/python3.10/dist-packages (from torch>=1.5.0->-r requirements.txt (line 4)) (3.16.1)\n",
            "Requirement already satisfied: sympy in /usr/local/lib/python3.10/dist-packages (from torch>=1.5.0->-r requirements.txt (line 4)) (1.13.3)\n",
            "Requirement already satisfied: networkx in /usr/local/lib/python3.10/dist-packages (from torch>=1.5.0->-r requirements.txt (line 4)) (3.3)\n",
            "Requirement already satisfied: jinja2 in /usr/local/lib/python3.10/dist-packages (from torch>=1.5.0->-r requirements.txt (line 4)) (3.1.4)\n",
            "Requirement already satisfied: fsspec in /usr/local/lib/python3.10/dist-packages (from torch>=1.5.0->-r requirements.txt (line 4)) (2024.6.1)\n",
            "Requirement already satisfied: numpy in /usr/local/lib/python3.10/dist-packages (from torchvision>=0.6.0->-r requirements.txt (line 5)) (1.26.4)\n",
            "Requirement already satisfied: pillow!=8.3.*,>=5.3.0 in /usr/local/lib/python3.10/dist-packages (from torchvision>=0.6.0->-r requirements.txt (line 5)) (10.4.0)\n",
            "Requirement already satisfied: importlib-metadata>=6.6.0 in /usr/local/lib/python3.10/dist-packages (from yapf->-r requirements.txt (line 10)) (8.5.0)\n",
            "Requirement already satisfied: platformdirs>=3.5.1 in /usr/local/lib/python3.10/dist-packages (from yapf->-r requirements.txt (line 10)) (4.3.6)\n",
            "Requirement already satisfied: tomli>=2.0.1 in /usr/local/lib/python3.10/dist-packages (from yapf->-r requirements.txt (line 10)) (2.0.1)\n",
            "Requirement already satisfied: pyyaml in /usr/local/lib/python3.10/dist-packages (from timm->-r requirements.txt (line 11)) (6.0.2)\n",
            "Requirement already satisfied: huggingface_hub in /usr/local/lib/python3.10/dist-packages (from timm->-r requirements.txt (line 11)) (0.24.7)\n",
            "Requirement already satisfied: safetensors in /usr/local/lib/python3.10/dist-packages (from timm->-r requirements.txt (line 11)) (0.4.5)\n",
            "Requirement already satisfied: zipp>=3.20 in /usr/local/lib/python3.10/dist-packages (from importlib-metadata>=6.6.0->yapf->-r requirements.txt (line 10)) (3.20.2)\n",
            "Requirement already satisfied: contourpy>=1.0.1 in /usr/local/lib/python3.10/dist-packages (from matplotlib>=2.1.0->pycocotools->-r requirements.txt (line 2)) (1.3.0)\n",
            "Requirement already satisfied: cycler>=0.10 in /usr/local/lib/python3.10/dist-packages (from matplotlib>=2.1.0->pycocotools->-r requirements.txt (line 2)) (0.12.1)\n",
            "Requirement already satisfied: fonttools>=4.22.0 in /usr/local/lib/python3.10/dist-packages (from matplotlib>=2.1.0->pycocotools->-r requirements.txt (line 2)) (4.53.1)\n",
            "Requirement already satisfied: kiwisolver>=1.0.1 in /usr/local/lib/python3.10/dist-packages (from matplotlib>=2.1.0->pycocotools->-r requirements.txt (line 2)) (1.4.7)\n",
            "Requirement already satisfied: packaging>=20.0 in /usr/local/lib/python3.10/dist-packages (from matplotlib>=2.1.0->pycocotools->-r requirements.txt (line 2)) (24.1)\n",
            "Requirement already satisfied: pyparsing>=2.3.1 in /usr/local/lib/python3.10/dist-packages (from matplotlib>=2.1.0->pycocotools->-r requirements.txt (line 2)) (3.1.4)\n",
            "Requirement already satisfied: python-dateutil>=2.7 in /usr/local/lib/python3.10/dist-packages (from matplotlib>=2.1.0->pycocotools->-r requirements.txt (line 2)) (2.8.2)\n",
            "Requirement already satisfied: requests in /usr/local/lib/python3.10/dist-packages (from huggingface_hub->timm->-r requirements.txt (line 11)) (2.32.3)\n",
            "Requirement already satisfied: tqdm>=4.42.1 in /usr/local/lib/python3.10/dist-packages (from huggingface_hub->timm->-r requirements.txt (line 11)) (4.66.5)\n",
            "Requirement already satisfied: MarkupSafe>=2.0 in /usr/local/lib/python3.10/dist-packages (from jinja2->torch>=1.5.0->-r requirements.txt (line 4)) (2.1.5)\n",
            "Requirement already satisfied: mpmath<1.4,>=1.1.0 in /usr/local/lib/python3.10/dist-packages (from sympy->torch>=1.5.0->-r requirements.txt (line 4)) (1.3.0)\n",
            "Requirement already satisfied: six>=1.5 in /usr/local/lib/python3.10/dist-packages (from python-dateutil>=2.7->matplotlib>=2.1.0->pycocotools->-r requirements.txt (line 2)) (1.16.0)\n",
            "Requirement already satisfied: charset-normalizer<4,>=2 in /usr/local/lib/python3.10/dist-packages (from requests->huggingface_hub->timm->-r requirements.txt (line 11)) (3.3.2)\n",
            "Requirement already satisfied: idna<4,>=2.5 in /usr/local/lib/python3.10/dist-packages (from requests->huggingface_hub->timm->-r requirements.txt (line 11)) (3.10)\n",
            "Requirement already satisfied: urllib3<3,>=1.21.1 in /usr/local/lib/python3.10/dist-packages (from requests->huggingface_hub->timm->-r requirements.txt (line 11)) (2.2.3)\n",
            "Requirement already satisfied: certifi>=2017.4.17 in /usr/local/lib/python3.10/dist-packages (from requests->huggingface_hub->timm->-r requirements.txt (line 11)) (2024.8.30)\n",
            "Downloading submitit-1.5.2-py3-none-any.whl (74 kB)\n",
            "\u001b[2K   \u001b[90m━━━━━━━━━━━━━━━━━━━━━━━━━━━━━━━━━━━━━━━━\u001b[0m \u001b[32m74.9/74.9 kB\u001b[0m \u001b[31m4.5 MB/s\u001b[0m eta \u001b[36m0:00:00\u001b[0m\n",
            "\u001b[?25hDownloading addict-2.4.0-py3-none-any.whl (3.8 kB)\n",
            "Downloading yapf-0.40.2-py3-none-any.whl (254 kB)\n",
            "\u001b[2K   \u001b[90m━━━━━━━━━━━━━━━━━━━━━━━━━━━━━━━━━━━━━━━━\u001b[0m \u001b[32m254.7/254.7 kB\u001b[0m \u001b[31m14.0 MB/s\u001b[0m eta \u001b[36m0:00:00\u001b[0m\n",
            "\u001b[?25hDownloading timm-1.0.9-py3-none-any.whl (2.3 MB)\n",
            "\u001b[2K   \u001b[90m━━━━━━━━━━━━━━━━━━━━━━━━━━━━━━━━━━━━━━━━\u001b[0m \u001b[32m2.3/2.3 MB\u001b[0m \u001b[31m59.5 MB/s\u001b[0m eta \u001b[36m0:00:00\u001b[0m\n",
            "\u001b[?25hBuilding wheels for collected packages: pycocotools, panopticapi\n",
            "  Building wheel for pycocotools (setup.py) ... \u001b[?25l\u001b[?25hdone\n",
            "  Created wheel for pycocotools: filename=pycocotools-2.0-cp310-cp310-linux_x86_64.whl size=376087 sha256=f00bb62676ad5b07c2df10ec5cf90ac17d8dce57bf8688098b8ad989879b5a93\n",
            "  Stored in directory: /tmp/pip-ephem-wheel-cache-omm40or5/wheels/39/61/b4/480fbddb4d3d6bc34083e7397bc6f5d1381f79acc68e9f3511\n",
            "  Building wheel for panopticapi (setup.py) ... \u001b[?25l\u001b[?25hdone\n",
            "  Created wheel for panopticapi: filename=panopticapi-0.1-py3-none-any.whl size=8258 sha256=0707847b15ebea95c60f1ce975ca17b6307b7e91596a2a316df46de15d0410cb\n",
            "  Stored in directory: /tmp/pip-ephem-wheel-cache-omm40or5/wheels/70/87/ae/5c2b138c967549070e3fe35f3b5fcaf1ed56e9f5483a09ee65\n",
            "Successfully built pycocotools panopticapi\n",
            "Installing collected packages: addict, submitit, panopticapi, yapf, pycocotools, timm\n",
            "  Attempting uninstall: pycocotools\n",
            "    Found existing installation: pycocotools 2.0.8\n",
            "    Uninstalling pycocotools-2.0.8:\n",
            "      Successfully uninstalled pycocotools-2.0.8\n",
            "Successfully installed addict-2.4.0 panopticapi-0.1 pycocotools-2.0 submitit-1.5.2 timm-1.0.9 yapf-0.40.2\n",
            "Python 3.10.12\n"
          ]
        }
      ]
    },
    {
      "cell_type": "code",
      "source": [
        "# Download the pre-trained model to the DINO directory\n",
        "!wget -P /content/DINO/models https://path_to_pretrained_model_file"
      ],
      "metadata": {
        "colab": {
          "base_uri": "https://localhost:8080/"
        },
        "id": "h7UoepMA3Ch8",
        "outputId": "bf694d2c-4ffa-4a9d-9db5-92d1d49ed645"
      },
      "execution_count": 6,
      "outputs": [
        {
          "output_type": "stream",
          "name": "stdout",
          "text": [
            "--2024-09-24 10:50:58--  https://path_to_pretrained_model_file/\n",
            "Resolving path_to_pretrained_model_file (path_to_pretrained_model_file)... failed: Name or service not known.\n",
            "wget: unable to resolve host address ‘path_to_pretrained_model_file’\n"
          ]
        }
      ]
    },
    {
      "cell_type": "code",
      "source": [
        "# List files in the models directory to confirm the download\n",
        "!ls /content/DINO/models"
      ],
      "metadata": {
        "colab": {
          "base_uri": "https://localhost:8080/"
        },
        "id": "OjRZp6SW3pwc",
        "outputId": "b3341578-bf11-4544-db6c-7328a0057b14"
      },
      "execution_count": 7,
      "outputs": [
        {
          "output_type": "stream",
          "name": "stdout",
          "text": [
            "dino  __init__.py  registry.py\n"
          ]
        }
      ]
    },
    {
      "cell_type": "code",
      "source": [
        "!python tools/eval.py --cfg configs/dino_r50.yaml --weights <path_to_pretrained_weights> --dataset coco --coco-path <path_to_coco_dataset>"
      ],
      "metadata": {
        "colab": {
          "base_uri": "https://localhost:8080/"
        },
        "id": "9EemIAjs31K7",
        "outputId": "4a58a6df-02cd-4228-e659-21699fed3120"
      },
      "execution_count": 8,
      "outputs": [
        {
          "output_type": "stream",
          "name": "stdout",
          "text": [
            "/bin/bash: -c: line 1: syntax error near unexpected token `newline'\n",
            "/bin/bash: -c: line 1: `python tools/eval.py --cfg configs/dino_r50.yaml --weights <path_to_pretrained_weights> --dataset coco --coco-path <path_to_coco_dataset>'\n"
          ]
        }
      ]
    },
    {
      "cell_type": "code",
      "source": [
        "!python tools/train.py --cfg configs/dino_r50.yaml --dataset coco --coco-path <path_to_coco_dataset> --train"
      ],
      "metadata": {
        "colab": {
          "base_uri": "https://localhost:8080/"
        },
        "id": "AUwWynco4Fiv",
        "outputId": "df71d12d-213e-4bfd-b2e1-32ab808fb7e7"
      },
      "execution_count": 9,
      "outputs": [
        {
          "output_type": "stream",
          "name": "stdout",
          "text": [
            "/bin/bash: line 1: path_to_coco_dataset: No such file or directory\n"
          ]
        }
      ]
    },
    {
      "source": [
        "import matplotlib.pyplot as plt\n",
        "\n",
        "# Sample loss values (replace with your actual loss data)\n",
        "losses = [10, 8, 6, 4, 2]  # Example list of loss values\n",
        "\n",
        "plt.plot(range(len(losses)), losses)\n",
        "plt.xlabel('Epoch')\n",
        "plt.ylabel('Loss')\n",
        "plt.title('Training Loss')\n",
        "plt.show()"
      ],
      "cell_type": "code",
      "metadata": {
        "colab": {
          "base_uri": "https://localhost:8080/",
          "height": 472
        },
        "id": "6wFxDdFG4ZzZ",
        "outputId": "629d4d66-a2cf-45c0-da28-04f5bcaa1d33"
      },
      "execution_count": 10,
      "outputs": [
        {
          "output_type": "display_data",
          "data": {
            "text/plain": [
              "<Figure size 640x480 with 1 Axes>"
            ],
            "image/png": "[encoded data removed]"
          },
          "metadata": {}
        }
      ]
    },
    {
      "cell_type": "code",
      "source": [
        "!/bin/bash -c \"wget https://dl.fbaipublicfiles.com/dino/dino_r50.pth\""
      ],
      "metadata": {
        "colab": {
          "base_uri": "https://localhost:8080/"
        },
        "id": "H2gekvqE7_Ke",
        "outputId": "fea1df91-358c-4991-f6e3-69bcd807d065"
      },
      "execution_count": 11,
      "outputs": [
        {
          "output_type": "stream",
          "name": "stdout",
          "text": [
            "--2024-09-24 10:51:48--  https://dl.fbaipublicfiles.com/dino/dino_r50.pth\n",
            "Resolving dl.fbaipublicfiles.com (dl.fbaipublicfiles.com)... 3.163.189.108, 3.163.189.51, 3.163.189.14, ...\n",
            "Connecting to dl.fbaipublicfiles.com (dl.fbaipublicfiles.com)|3.163.189.108|:443... connected.\n",
            "HTTP request sent, awaiting response... 403 Forbidden\n",
            "2024-09-24 10:51:48 ERROR 403: Forbidden.\n",
            "\n"
          ]
        }
      ]
    },
    {
      "cell_type": "code",
      "source": [
        "!shell\n",
        "!ls /content/DINO/models"
      ],
      "metadata": {
        "colab": {
          "base_uri": "https://localhost:8080/"
        },
        "id": "5WSYRxeI7ZtL",
        "outputId": "b766c1f9-1fb6-477d-9e47-97f3015dbebd"
      },
      "execution_count": 12,
      "outputs": [
        {
          "output_type": "stream",
          "name": "stdout",
          "text": [
            "/bin/bash: line 1: shell: command not found\n",
            "dino  __init__.py  registry.py\n"
          ]
        }
      ]
    },
    {
      "cell_type": "code",
      "source": [
        "# Change to the DINO directory\n",
        "%cd /content/DINO/models\n",
        "\n",
        "# Download the pre-trained ResNet-50 model for DINO\n",
        "!wget https://path_to_pretrained_model/dino_r50.pth"
      ],
      "metadata": {
        "colab": {
          "base_uri": "https://localhost:8080/"
        },
        "id": "1bomh975yK-4",
        "outputId": "a260a600-eeb6-4140-b23e-45313ecb2ec5"
      },
      "execution_count": 20,
      "outputs": [
        {
          "output_type": "stream",
          "name": "stdout",
          "text": [
            "/content/DINO/models\n",
            "--2024-09-24 11:26:54--  https://path_to_pretrained_model/dino_r50.pth\n",
            "Resolving path_to_pretrained_model (path_to_pretrained_model)... failed: Name or service not known.\n",
            "wget: unable to resolve host address ‘path_to_pretrained_model’\n"
          ]
        }
      ]
    },
    {
      "cell_type": "code",
      "source": [
        "# Create a directory for the model\n",
        "%mkdir -p /content/DINO/models\n",
        "\n",
        "# Change to the model directory\n",
        "%cd /content/DINO/models\n",
        "\n",
        "# Download the DINO-4scale pre-trained model with ResNet-50 backbone\n",
        "!wget https://drive.google.com/uc?id=1l0tZQDf_lFeB_1GR3N0hG5kAqMs9Ijbz -O dino_r50.pth"
      ],
      "metadata": {
        "colab": {
          "base_uri": "https://localhost:8080/"
        },
        "id": "CK-NpmxD1pmN",
        "outputId": "4043075b-b1e2-4807-cafd-908204763d49"
      },
      "execution_count": 21,
      "outputs": [
        {
          "output_type": "stream",
          "name": "stdout",
          "text": [
            "/content/DINO/models\n",
            "--2024-09-24 11:42:06--  https://drive.google.com/uc?id=1l0tZQDf_lFeB_1GR3N0hG5kAqMs9Ijbz\n",
            "Resolving drive.google.com (drive.google.com)... 173.194.202.138, 173.194.202.139, 173.194.202.100, ...\n",
            "Connecting to drive.google.com (drive.google.com)|173.194.202.138|:443... connected.\n",
            "HTTP request sent, awaiting response... 303 See Other\n",
            "Location: https://drive.usercontent.google.com/download?id=1l0tZQDf_lFeB_1GR3N0hG5kAqMs9Ijbz [following]\n",
            "--2024-09-24 11:42:06--  https://drive.usercontent.google.com/download?id=1l0tZQDf_lFeB_1GR3N0hG5kAqMs9Ijbz\n",
            "Resolving drive.usercontent.google.com (drive.usercontent.google.com)... 74.125.197.132, 2607:f8b0:400e:c07::84\n",
            "Connecting to drive.usercontent.google.com (drive.usercontent.google.com)|74.125.197.132|:443... connected.\n",
            "HTTP request sent, awaiting response... 404 Not Found\n",
            "2024-09-24 11:42:06 ERROR 404: Not Found.\n",
            "\n"
          ]
        }
      ]
    },
    {
      "cell_type": "code",
      "source": [
        "!ls /content/DINO/models"
      ],
      "metadata": {
        "id": "IfgkqXMiyOp6"
      },
      "execution_count": null,
      "outputs": []
    },
    {
      "cell_type": "code",
      "source": [
        "import torchvision.transforms as T\n",
        "import cv2\n",
        "import numpy as np\n",
        "\n",
        "# Load and preprocess the image\n",
        "img_path = '/content/drive/MyDrive/path_to_image.jpg'\n",
        "image = cv2.imread(img_path)\n",
        "\n",
        "# Convert BGR (OpenCV) to RGB (for PyTorch)\n",
        "image_rgb = cv2.cvtColor(image, cv2.COLOR_BGR2RGB)\n",
        "\n",
        "# Define the preprocessing steps\n",
        "preprocess = T.Compose([\n",
        "    T.ToPILImage(),\n",
        "    T.Resize((800, 800)),  # Resize as needed for your model\n",
        "    T.ToTensor(),  # Convert to tensor\n",
        "    T.Normalize(mean=[0.485, 0.456, 0.406], std=[0.229, 0.224, 0.225]),  # Normalization\n",
        "])\n",
        "\n",
        "# Preprocess the image\n",
        "preprocessed_image = preprocess(image_rgb).unsqueeze(0)  # Add batch dimension"
      ],
      "metadata": {
        "colab": {
          "base_uri": "https://localhost:8080/",
          "height": 238
        },
        "id": "WLMSWzAu7Ios",
        "outputId": "552ce287-7e73-4682-8b1c-0a3c27f52a06"
      },
      "execution_count": 19,
      "outputs": [
        {
          "output_type": "error",
          "ename": "error",
          "evalue": "OpenCV(4.10.0) /io/opencv/modules/imgproc/src/color.cpp:196: error: (-215:Assertion failed) !_src.empty() in function 'cvtColor'\n",
          "traceback": [
            "\u001b[0;31m---------------------------------------------------------------------------\u001b[0m",
            "\u001b[0;31merror\u001b[0m                                     Traceback (most recent call last)",
            "\u001b[0;32m<ipython-input-19-73417da00534>\u001b[0m in \u001b[0;36m<cell line: 10>\u001b[0;34m()\u001b[0m\n\u001b[1;32m      8\u001b[0m \u001b[0;34m\u001b[0m\u001b[0m\n\u001b[1;32m      9\u001b[0m \u001b[0;31m# Convert BGR (OpenCV) to RGB (for PyTorch)\u001b[0m\u001b[0;34m\u001b[0m\u001b[0;34m\u001b[0m\u001b[0m\n\u001b[0;32m---> 10\u001b[0;31m \u001b[0mimage_rgb\u001b[0m \u001b[0;34m=\u001b[0m \u001b[0mcv2\u001b[0m\u001b[0;34m.\u001b[0m\u001b[0mcvtColor\u001b[0m\u001b[0;34m(\u001b[0m\u001b[0mimage\u001b[0m\u001b[0;34m,\u001b[0m \u001b[0mcv2\u001b[0m\u001b[0;34m.\u001b[0m\u001b[0mCOLOR_BGR2RGB\u001b[0m\u001b[0;34m)\u001b[0m\u001b[0;34m\u001b[0m\u001b[0;34m\u001b[0m\u001b[0m\n\u001b[0m\u001b[1;32m     11\u001b[0m \u001b[0;34m\u001b[0m\u001b[0m\n\u001b[1;32m     12\u001b[0m \u001b[0;31m# Define the preprocessing steps\u001b[0m\u001b[0;34m\u001b[0m\u001b[0;34m\u001b[0m\u001b[0m\n",
            "\u001b[0;31merror\u001b[0m: OpenCV(4.10.0) /io/opencv/modules/imgproc/src/color.cpp:196: error: (-215:Assertion failed) !_src.empty() in function 'cvtColor'\n"
          ]
        }
      ]
    },
    {
      "source": [
        "import os\n",
        "\n",
        "model_path = \"/content/DINO/models/dino_r50.pth\"  # Adjust path to your model\n",
        "\n",
        "if not os.path.exists(model_path):\n",
        "  # Print an error message and suggest checking the file path\n",
        "  print(f\"Error: Model file not found at {model_path}\")\n",
        "  print(\"Please check if the file exists and the path is correct.\")\n",
        "else:\n",
        "  # Load the model if the file exists\n",
        "  model = torch.load(model_path)\n",
        "  model.eval()"
      ],
      "cell_type": "code",
      "metadata": {
        "colab": {
          "base_uri": "https://localhost:8080/"
        },
        "id": "3Q4j4R4ZsV__",
        "outputId": "720da13e-ce00-4fe0-cb51-619154f9348e"
      },
      "execution_count": 16,
      "outputs": [
        {
          "output_type": "stream",
          "name": "stdout",
          "text": [
            "Error: Model file not found at /content/DINO/models/dino_r50.pth\n",
            "Please check if the file exists and the path is correct.\n"
          ]
        }
      ]
    },
    {
      "source": [
        "import cv2\n",
        "import matplotlib.pyplot as plt\n",
        "\n",
        "def plot_image_with_boxes(image, boxes, labels):\n",
        "    \"\"\"Display the image with predicted bounding boxes.\"\"\"\n",
        "    for box, label in zip(boxes, labels):\n",
        "        x1, y1, x2, y2 = box  # Assuming box is [x1, y1, x2, y2]\n",
        "        cv2.rectangle(image, (int(x1), int(y1)), (int(x2), int(y2)), (0, 255, 0), 2)\n",
        "        cv2.putText(image, str(label), (int(x1), int(y1) - 10), cv2.FONT_HERSHEY_SIMPLEX, 0.9, (255, 0, 0), 2)\n",
        "    # Check if the image is loaded correctly\n",
        "    if image is not None:\n",
        "        plt.imshow(cv2.cvtColor(image, cv2.COLOR_BGR2RGB))  # Convert BGR to RGB for Matplotlib\n",
        "        plt.axis('off')\n",
        "        plt.show()\n",
        "    else:\n",
        "        print(\"Error: Image not loaded correctly.\")\n",
        "\n",
        "# Visualize the bounding boxes on the image\n",
        "plot_image_with_boxes(image, predicted_boxes, predicted_labels)"
      ],
      "cell_type": "code",
      "metadata": {
        "colab": {
          "base_uri": "https://localhost:8080/"
        },
        "id": "yk5RRoCa8gyO",
        "outputId": "df240ea4-283f-4ed0-c1ff-84036a1d0773"
      },
      "execution_count": 32,
      "outputs": [
        {
          "output_type": "stream",
          "name": "stdout",
          "text": [
            "Error: Image not loaded correctly.\n"
          ]
        }
      ]
    }
  ]
}